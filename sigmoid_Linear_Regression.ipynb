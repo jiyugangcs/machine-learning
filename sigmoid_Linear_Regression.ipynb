{
 "cells": [
  {
   "cell_type": "code",
   "execution_count": 23,
   "metadata": {},
   "outputs": [],
   "source": [
    "import numpy as np\n",
    "import tensorflow as tf"
   ]
  },
  {
   "cell_type": "code",
   "execution_count": 24,
   "metadata": {},
   "outputs": [],
   "source": [
    "def sigmoid(inX):\n",
    "    return 1.0/(1+np.exp(-inX))"
   ]
  },
  {
   "cell_type": "code",
   "execution_count": 34,
   "metadata": {},
   "outputs": [],
   "source": [
    "def train_models(features, labels, learning_rate, iterations):\n",
    "    M, N = features.shape\n",
    "    X = tf.placeholder(dtype = tf.float32, shape = [None, N], name ='input_feature')\n",
    "    Y = tf.placeholder(dtype = tf.float32, shape = [None], name = 'label')\n",
    "    W = tf.Variable(tf.random_normal([N, 1], stddev=0.05) ,dtype = tf.float32, name = \"weight\")\n",
    "    b = tf.Variable(tf.random_normal([1], stddev = 0.01), name = \"bias\")\n",
    "    output = tf.reshape(tf.sigmoid(tf.add(tf.matmul(X, W), b)),[-1])\n",
    "    L = tf.reduce_mean(tf.nn.sigmoid_cross_entropy_with_logits(logits = output, labels = Y))\n",
    "    optimizer = tf.train.GradientDescentOptimizer(learning_rate = learning_rate).minimize(L)\n",
    "    with tf.Session() as session:\n",
    "        init = tf.global_variables_initializer()\n",
    "        session.run(init)\n",
    "        loss_values = []\n",
    "        for i in range(iterations):\n",
    "            _, loss = session.run([optimizer, L], feed_dict = {X: features, Y: labels})\n",
    "            loss_values.append(loss)\n",
    "        updated_W, update_b = session.run([W, b],feed_dict = {X: features, Y: labels})\n",
    "    return [loss_values, updated_W, update_b]"
   ]
  },
  {
   "cell_type": "code",
   "execution_count": 46,
   "metadata": {},
   "outputs": [],
   "source": [
    "features = np.random.rand(1000, 10)\n",
    "w = np.random.rand(10, 1)\n",
    "b = 0.1\n",
    "labels = sigmoid(np.dot(features, w) + 0.1)\n",
    "iterations = 10000\n",
    "loss_values, update_W, update_b= train_models(features, labels.reshape([-1]), 0.01, iterations)"
   ]
  },
  {
   "cell_type": "code",
   "execution_count": 47,
   "metadata": {},
   "outputs": [],
   "source": [
    "from matplotlib import pyplot as plt"
   ]
  },
  {
   "cell_type": "code",
   "execution_count": 60,
   "metadata": {},
   "outputs": [
    {
     "data": {
      "text/plain": [
       "<matplotlib.legend.Legend at 0x7f5ee002ce80>"
      ]
     },
     "execution_count": 60,
     "metadata": {},
     "output_type": "execute_result"
    },
    {
     "data": {
      "image/png": "[encoded data removed]",
      "text/plain": [
       "<Figure size 432x288 with 1 Axes>"
      ]
     },
     "metadata": {},
     "output_type": "display_data"
    }
   ],
   "source": [
    "indexs = np.arange(iterations)\n",
    "# print(len(loss_values))\n",
    "plt.title(\"The loss of y = sigmoid(xW + b)\")\n",
    "plt.xlabel(\"iterations\")\n",
    "plt.ylabel(\"loss value\")\n",
    "plt.plot(indexs, loss_values,\"-\", label = \"loss line\")\n",
    "plt.legend()"
   ]
  },
  {
   "cell_type": "code",
   "execution_count": null,
   "metadata": {},
   "outputs": [],
   "source": []
  }
 ],
 "metadata": {
  "kernelspec": {
   "display_name": "Python 3",
   "language": "python",
   "name": "python3"
  },
  "language_info": {
   "codemirror_mode": {
    "name": "ipython",
    "version": 3
   },
   "file_extension": ".py",
   "mimetype": "text/x-python",
   "name": "python",
   "nbconvert_exporter": "python",
   "pygments_lexer": "ipython3",
   "version": "3.6.5"
  }
 },
 "nbformat": 4,
 "nbformat_minor": 2
}
